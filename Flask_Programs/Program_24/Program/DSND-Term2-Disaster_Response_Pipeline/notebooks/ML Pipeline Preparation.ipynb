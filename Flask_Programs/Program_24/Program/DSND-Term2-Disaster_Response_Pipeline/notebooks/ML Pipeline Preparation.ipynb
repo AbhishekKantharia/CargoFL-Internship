{
 "cells": [
  {
   "cell_type": "markdown",
   "metadata": {},
   "source": [
    "# ML Pipeline Preparation\n",
    "Follow the instructions below to help you create your ML pipeline.\n",
    "### 1. Import libraries and load data from database.\n",
    "- Import Python libraries\n",
    "- Load dataset from database with [`read_sql_table`](https://pandas.pydata.org/pandas-docs/stable/generated/pandas.read_sql_table.html)\n",
    "- Define feature and target variables X and Y"
   ]
  },
  {
   "cell_type": "code",
   "execution_count": 1,
   "metadata": {},
   "outputs": [
    {
     "name": "stdout",
     "output_type": "stream",
     "text": [
      "[nltk_data] Downloading package punkt to /root/nltk_data...\n",
      "[nltk_data]   Package punkt is already up-to-date!\n",
      "[nltk_data] Downloading package wordnet to /root/nltk_data...\n",
      "[nltk_data]   Package wordnet is already up-to-date!\n"
     ]
    }
   ],
   "source": [
    "# import libraries\n",
    "import nltk\n",
    "import re\n",
    "nltk.download(['punkt','wordnet'])\n",
    "import warnings\n",
    "warnings.filterwarnings('ignore')"
   ]
  },
  {
   "cell_type": "code",
   "execution_count": 2,
   "metadata": {},
   "outputs": [],
   "source": [
    "from sqlalchemy import create_engine\n",
    "import pandas as pd\n",
    "import numpy as np\n",
    "\n",
    "from sklearn.pipeline import Pipeline\n",
    "\n",
    "from nltk.tokenize import word_tokenize, WhitespaceTokenizer\n",
    "\n",
    "from nltk.stem import WordNetLemmatizer\n",
    "from sklearn.feature_extraction.text import TfidfTransformer, CountVectorizer\n",
    "from sklearn.multioutput import MultiOutputClassifier\n",
    "\n",
    "from sklearn.ensemble import RandomForestClassifier\n",
    "from sklearn.model_selection import train_test_split,GridSearchCV\n",
    "from sklearn.metrics import classification_report, accuracy_score\n",
    "from sklearn.multiclass import OneVsRestClassifier\n",
    "from sklearn.svm import LinearSVC"
   ]
  },
  {
   "cell_type": "code",
   "execution_count": 3,
   "metadata": {},
   "outputs": [],
   "source": [
    "# load data from database\n",
    "engine = create_engine('sqlite:///DisasterResponse.db')\n",
    "df = pd.read_sql_table('messages',engine) \n",
    "X = df['message']\n",
    "y = df.iloc[:,4:]\n",
    "categories=y.columns                    "
   ]
  },
  {
   "cell_type": "code",
   "execution_count": 4,
   "metadata": {},
   "outputs": [
    {
     "data": {
      "text/plain": [
       "((26180, 40), (10153, 40))"
      ]
     },
     "execution_count": 4,
     "metadata": {},
     "output_type": "execute_result"
    }
   ],
   "source": [
    "df[~(df.isnull().any(axis=1))|(df.original.isnull())].shape, df[~(df.isnull().any(axis=1))].shape"
   ]
  },
  {
   "cell_type": "code",
   "execution_count": 5,
   "metadata": {},
   "outputs": [],
   "source": [
    "df=df[~(df.isnull().any(axis=1))|((df.original.isnull())&~(df.offer.isnull()))]"
   ]
  },
  {
   "cell_type": "markdown",
   "metadata": {},
   "source": [
    "### 2. Write a tokenization function to process your text data"
   ]
  },
  {
   "cell_type": "code",
   "execution_count": 6,
   "metadata": {},
   "outputs": [],
   "source": [
    "def tokenize(text):\n",
    "    # get tokens from text\n",
    "    tokens= WhitespaceTokenizer().tokenize(text)\n",
    "    lemmatizer= WordNetLemmatizer()\n",
    "    \n",
    "    # clean tokens\n",
    "    processed_tokens=[]\n",
    "    for token in tokens:\n",
    "        token=lemmatizer.lemmatize(token).lower().strip('!\"#$%&\\'()*+,-./:;<=>?@[\\\\]^_`{|}~')\n",
    "        token=re.sub(r'\\[[^.,;:]]*\\]','', token)\n",
    "        \n",
    "        # add token to compiled list if not empty\n",
    "        if token !='':\n",
    "            processed_tokens.append(token)\n",
    "    return processed_tokens"
   ]
  },
  {
   "cell_type": "markdown",
   "metadata": {},
   "source": [
    "### 3. Build a machine learning pipeline\n",
    "This machine pipeline should take in the `message` column as input and output classification results on the other 36 categories in the dataset. You may find the [MultiOutputClassifier](http://scikit-learn.org/stable/modules/generated/sklearn.multioutput.MultiOutputClassifier.html) helpful for predicting multiple target variables."
   ]
  },
  {
   "cell_type": "code",
   "execution_count": 7,
   "metadata": {},
   "outputs": [],
   "source": [
    "pipeline = Pipeline([\n",
    "    ('vect', CountVectorizer(tokenizer = tokenize)),\n",
    "    ('tfidf', TfidfTransformer()),\n",
    "    ('clf', MultiOutputClassifier(RandomForestClassifier()))\n",
    "])"
   ]
  },
  {
   "cell_type": "markdown",
   "metadata": {},
   "source": [
    "### 4. Train pipeline\n",
    "- Split data into train and test sets\n",
    "- Train pipeline"
   ]
  },
  {
   "cell_type": "code",
   "execution_count": 8,
   "metadata": {},
   "outputs": [],
   "source": [
    "import random\n",
    "random.seed(20181022)"
   ]
  },
  {
   "cell_type": "code",
   "execution_count": 9,
   "metadata": {},
   "outputs": [],
   "source": [
    "X_train, X_test, y_train, y_test = train_test_split(X, y,test_size=0.2)"
   ]
  },
  {
   "cell_type": "code",
   "execution_count": 10,
   "metadata": {},
   "outputs": [
    {
     "data": {
      "text/plain": [
       "Pipeline(memory=None,\n",
       "     steps=[('vect', CountVectorizer(analyzer='word', binary=False, decode_error='strict',\n",
       "        dtype=<class 'numpy.int64'>, encoding='utf-8', input='content',\n",
       "        lowercase=True, max_df=1.0, max_features=None, min_df=1,\n",
       "        ngram_range=(1, 1), preprocessor=None, stop_words=None,\n",
       "        strip...oob_score=False, random_state=None, verbose=0,\n",
       "            warm_start=False),\n",
       "           n_jobs=1))])"
      ]
     },
     "execution_count": 10,
     "metadata": {},
     "output_type": "execute_result"
    }
   ],
   "source": [
    "pipeline.fit(X_train, y_train)"
   ]
  },
  {
   "cell_type": "markdown",
   "metadata": {},
   "source": [
    "### 5. Test your model\n",
    "Report the f1 score, precision and recall for each output category of the dataset. You can do this by iterating through the columns and calling sklearn's `classification_report` on each."
   ]
  },
  {
   "cell_type": "code",
   "execution_count": 11,
   "metadata": {},
   "outputs": [],
   "source": [
    "y_pred=pipeline.predict(X_test)"
   ]
  },
  {
   "cell_type": "code",
   "execution_count": 12,
   "metadata": {},
   "outputs": [
    {
     "name": "stdout",
     "output_type": "stream",
     "text": [
      "                        precision    recall  f1-score   support\n",
      "\n",
      "               related       0.81      0.40      0.54       895\n",
      "               request       0.00      0.00      0.00        22\n",
      "                 offer       0.74      0.53      0.62      2186\n",
      "           aid_related       0.70      0.09      0.16       438\n",
      "          medical_help       0.71      0.07      0.13       275\n",
      "      medical_products       0.33      0.02      0.03       130\n",
      "     search_and_rescue       0.00      0.00      0.00        80\n",
      "              security       0.59      0.05      0.10       193\n",
      "              military       0.00      0.00      0.00         0\n",
      "           child_alone       0.83      0.24      0.37       369\n",
      "                 water       0.82      0.38      0.52       564\n",
      "                  food       0.81      0.18      0.30       501\n",
      "               shelter       0.75      0.07      0.12        89\n",
      "              clothing       0.88      0.06      0.11       118\n",
      "                 money       0.00      0.00      0.00        50\n",
      "        missing_people       0.46      0.09      0.16       169\n",
      "              refugees       0.88      0.21      0.34       254\n",
      "                 death       0.54      0.05      0.09       653\n",
      "             other_aid       0.25      0.01      0.01       337\n",
      "infrastructure_related       0.67      0.10      0.18       213\n",
      "             transport       0.75      0.09      0.16       275\n",
      "             buildings       0.50      0.02      0.04       100\n",
      "           electricity       0.00      0.00      0.00        42\n",
      "                 tools       0.67      0.03      0.06        64\n",
      "             hospitals       0.00      0.00      0.00        27\n",
      "                 shops       0.00      0.00      0.00        65\n",
      "           aid_centers       0.33      0.00      0.01       220\n",
      "  other_infrastructure       0.84      0.54      0.66      1465\n",
      "       weather_related       0.86      0.25      0.39       430\n",
      "                floods       0.81      0.36      0.50       503\n",
      "                 storm       1.00      0.04      0.07        53\n",
      "                  fire       0.91      0.68      0.78       490\n",
      "            earthquake       0.60      0.03      0.06       102\n",
      "                  cold       0.54      0.03      0.05       273\n",
      "         other_weather       0.76      0.30      0.43      1007\n",
      "\n",
      "           avg / total       0.72      0.31      0.40     12652\n",
      "\n"
     ]
    }
   ],
   "source": [
    "print(classification_report(y_test.iloc[:,1:].values, np.array([x[1:] for x in y_pred]), target_names=categories))"
   ]
  },
  {
   "cell_type": "markdown",
   "metadata": {},
   "source": [
    "### 6. Improve your model\n",
    "Use grid search to find better parameters. "
   ]
  },
  {
   "cell_type": "code",
   "execution_count": 13,
   "metadata": {},
   "outputs": [
    {
     "data": {
      "text/plain": [
       "GridSearchCV(cv=None, error_score='raise',\n",
       "       estimator=Pipeline(memory=None,\n",
       "     steps=[('vect', CountVectorizer(analyzer='word', binary=False, decode_error='strict',\n",
       "        dtype=<class 'numpy.int64'>, encoding='utf-8', input='content',\n",
       "        lowercase=True, max_df=1.0, max_features=None, min_df=1,\n",
       "        ngram_range=(1, 1), preprocessor=None, stop_words=None,\n",
       "        strip...ty='l2', random_state=None, tol=0.0001,\n",
       "     verbose=0),\n",
       "          n_jobs=1),\n",
       "           n_jobs=1))]),\n",
       "       fit_params=None, iid=True, n_jobs=1,\n",
       "       param_grid={'tfidf__smooth_idf': [True, False], 'clf__estimator__estimator__C': [1, 2, 5]},\n",
       "       pre_dispatch='2*n_jobs', refit=True, return_train_score='warn',\n",
       "       scoring=None, verbose=0)"
      ]
     },
     "execution_count": 13,
     "metadata": {},
     "output_type": "execute_result"
    }
   ],
   "source": [
    "pipeline = Pipeline([\n",
    "    ('vect', CountVectorizer(tokenizer = tokenize)),\n",
    "    ('tfidf', TfidfTransformer()),\n",
    "    ('clf', MultiOutputClassifier(OneVsRestClassifier(LinearSVC())))\n",
    "])\n",
    "\n",
    "parameters = {\n",
    "    'tfidf__smooth_idf':[True, False],\n",
    "    'clf__estimator__estimator__C':[1,2,5]}\n",
    "\n",
    "cv = GridSearchCV(pipeline, parameters)\n",
    "cv.fit(X_train, y_train)"
   ]
  },
  {
   "cell_type": "code",
   "execution_count": 14,
   "metadata": {},
   "outputs": [
    {
     "data": {
      "text/plain": [
       "{'mean_fit_time': array([ 5.78378352,  5.79573925,  6.83461253,  6.82776475,  9.68571854,\n",
       "         9.78559049]),\n",
       " 'std_fit_time': array([ 0.04439364,  0.05685146,  0.05924221,  0.05597879,  0.03698342,\n",
       "         0.21409843]),\n",
       " 'mean_score_time': array([ 1.65128056,  1.65053622,  1.66311812,  1.65520684,  1.65739497,\n",
       "         1.65662996]),\n",
       " 'std_score_time': array([ 0.0313212 ,  0.01840314,  0.02585312,  0.0254283 ,  0.0251935 ,\n",
       "         0.02020434]),\n",
       " 'param_clf__estimator__estimator__C': masked_array(data = [1 1 2 2 5 5],\n",
       "              mask = [False False False False False False],\n",
       "        fill_value = ?),\n",
       " 'param_tfidf__smooth_idf': masked_array(data = [True False True False True False],\n",
       "              mask = [False False False False False False],\n",
       "        fill_value = ?),\n",
       " 'params': [{'clf__estimator__estimator__C': 1, 'tfidf__smooth_idf': True},\n",
       "  {'clf__estimator__estimator__C': 1, 'tfidf__smooth_idf': False},\n",
       "  {'clf__estimator__estimator__C': 2, 'tfidf__smooth_idf': True},\n",
       "  {'clf__estimator__estimator__C': 2, 'tfidf__smooth_idf': False},\n",
       "  {'clf__estimator__estimator__C': 5, 'tfidf__smooth_idf': True},\n",
       "  {'clf__estimator__estimator__C': 5, 'tfidf__smooth_idf': False}],\n",
       " 'split0_test_score': array([ 0.28501862,  0.28329991,  0.26339158,  0.2612432 ,  0.23746777,\n",
       "         0.2381839 ]),\n",
       " 'split1_test_score': array([ 0.28076207,  0.28004584,  0.26171036,  0.26171036,  0.22976651,\n",
       "         0.23105572]),\n",
       " 'split2_test_score': array([ 0.27889987,  0.27875663,  0.25798596,  0.25812921,  0.23177195,\n",
       "         0.23162871]),\n",
       " 'mean_test_score': array([ 0.28156035,  0.28070092,  0.26102941,  0.26036096,  0.23300229,\n",
       "         0.23362299]),\n",
       " 'std_test_score': array([ 0.00256098,  0.00191177,  0.00225877,  0.00158952,  0.0032622 ,\n",
       "         0.00323375]),\n",
       " 'rank_test_score': array([1, 2, 3, 4, 6, 5], dtype=int32),\n",
       " 'split0_train_score': array([ 0.79408394,  0.80583011,  0.91276321,  0.91706059,  0.95695459,\n",
       "         0.95795731]),\n",
       " 'split1_train_score': array([ 0.79266633,  0.80305092,  0.91205328,  0.91685168,  0.95609826,\n",
       "         0.95724415]),\n",
       " 'split2_train_score': array([ 0.79280957,  0.80591563,  0.91140872,  0.91599227,  0.95674282,\n",
       "         0.95753062]),\n",
       " 'mean_train_score': array([ 0.79318661,  0.80493222,  0.91207507,  0.91663485,  0.95659856,\n",
       "         0.95757736]),\n",
       " 'std_train_score': array([ 0.0006372 ,  0.00133074,  0.00055318,  0.00046231,  0.00036417,\n",
       "         0.00029302])}"
      ]
     },
     "execution_count": 14,
     "metadata": {},
     "output_type": "execute_result"
    }
   ],
   "source": [
    "cv.cv_results_"
   ]
  },
  {
   "cell_type": "markdown",
   "metadata": {},
   "source": [
    "### 7. Test your model\n",
    "Show the accuracy, precision, and recall of the tuned model.  \n",
    "\n",
    "Since this project focuses on code quality, process, and  pipelines, there is no minimum performance metric needed to pass. However, make sure to fine tune your models for accuracy, precision and recall to make your project stand out - especially for your portfolio!"
   ]
  },
  {
   "cell_type": "code",
   "execution_count": 15,
   "metadata": {},
   "outputs": [
    {
     "name": "stdout",
     "output_type": "stream",
     "text": [
      "0.408517952636\n"
     ]
    }
   ],
   "source": [
    "y_pred=cv.predict(X_test)\n",
    "print(accuracy_score(y_test.iloc[:,1:].values, np.array([x[1:] for x in y_pred])))"
   ]
  },
  {
   "cell_type": "markdown",
   "metadata": {},
   "source": [
    "### 8. Try improving your model further. Here are a few ideas:\n",
    "* try other machine learning algorithms\n",
    "* add other features besides the TF-IDF"
   ]
  },
  {
   "cell_type": "code",
   "execution_count": 16,
   "metadata": {},
   "outputs": [
    {
     "data": {
      "text/plain": [
       "{'clf__estimator__estimator__C': 1, 'tfidf__smooth_idf': True}"
      ]
     },
     "execution_count": 16,
     "metadata": {},
     "output_type": "execute_result"
    }
   ],
   "source": [
    "cv.best_params_"
   ]
  },
  {
   "cell_type": "markdown",
   "metadata": {},
   "source": [
    "### 9. Export your model as a pickle file"
   ]
  },
  {
   "cell_type": "code",
   "execution_count": 17,
   "metadata": {},
   "outputs": [],
   "source": [
    "import pickle\n",
    "pickle.dump(cv,open('model.p','wb'))"
   ]
  },
  {
   "cell_type": "markdown",
   "metadata": {},
   "source": [
    "### 10. Use this notebook to complete `train.py`\n",
    "Use the template file attached in the Resources folder to write a script that runs the steps above to create a database and export a model based on a new dataset specified by the user."
   ]
  },
  {
   "cell_type": "code",
   "execution_count": null,
   "metadata": {},
   "outputs": [],
   "source": []
  }
 ],
 "metadata": {
  "kernelspec": {
   "display_name": "Python 3",
   "language": "python",
   "name": "python3"
  },
  "language_info": {
   "codemirror_mode": {
    "name": "ipython",
    "version": 3
   },
   "file_extension": ".py",
   "mimetype": "text/x-python",
   "name": "python",
   "nbconvert_exporter": "python",
   "pygments_lexer": "ipython3",
   "version": "3.6.3"
  }
 },
 "nbformat": 4,
 "nbformat_minor": 2
}
