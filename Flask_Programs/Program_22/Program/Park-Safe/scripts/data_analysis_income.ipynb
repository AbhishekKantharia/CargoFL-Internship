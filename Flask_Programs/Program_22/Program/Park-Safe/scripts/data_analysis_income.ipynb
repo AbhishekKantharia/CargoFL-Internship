{
 "cells": [
  {
   "cell_type": "code",
   "execution_count": 1,
   "metadata": {},
   "outputs": [],
   "source": [
    "import pandas as pd\n",
    "import numpy as np\n",
    "from random import shuffle\n",
    "\n"
   ]
  },
  {
   "cell_type": "code",
   "execution_count": 12,
   "metadata": {},
   "outputs": [],
   "source": [
    "data_df = pd.read_csv('Police_Department_Incident_Reports__2018_to_Present.csv')\n"
   ]
  },
  {
   "cell_type": "code",
   "execution_count": 13,
   "metadata": {},
   "outputs": [
    {
     "data": {
      "text/plain": [
       "Incident Datetime                                        object\n",
       "Incident Date                                            object\n",
       "Incident Time                                            object\n",
       "Incident Year                                             int64\n",
       "Incident Day of Week                                     object\n",
       "Report Datetime                                          object\n",
       "Row ID                                                    int64\n",
       "Incident ID                                               int64\n",
       "Incident Number                                           int64\n",
       "CAD Number                                              float64\n",
       "Report Type Code                                         object\n",
       "Report Type Description                                  object\n",
       "Filed Online                                             object\n",
       "Incident Code                                             int64\n",
       "Incident Category                                        object\n",
       "Incident Subcategory                                     object\n",
       "Incident Description                                     object\n",
       "Resolution                                               object\n",
       "Intersection                                             object\n",
       "CNN                                                     float64\n",
       "Police District                                          object\n",
       "Analysis Neighborhood                                    object\n",
       "Supervisor District                                     float64\n",
       "Latitude                                                float64\n",
       "Longitude                                               float64\n",
       "point                                                    object\n",
       "SF Find Neighborhoods                                   float64\n",
       "Current Police Districts                                float64\n",
       "Current Supervisor Districts                            float64\n",
       "Analysis Neighborhoods                                  float64\n",
       "HSOC Zones as of 2018-06-05                             float64\n",
       "OWED Public Spaces                                      float64\n",
       "Central Market/Tenderloin Boundary Polygon - Updated    float64\n",
       "Parks Alliance CPSI (27+TL sites)                       float64\n",
       "ESNCAG - Boundary File                                  float64\n",
       "Areas of Vulnerability, 2016                            float64\n",
       "dtype: object"
      ]
     },
     "execution_count": 13,
     "metadata": {},
     "output_type": "execute_result"
    }
   ],
   "source": [
    "data_df.dtypes"
   ]
  },
  {
   "cell_type": "code",
   "execution_count": 21,
   "metadata": {},
   "outputs": [],
   "source": [
    "filtered_data_df = data_df.filter(['Incident Datetime', 'Incident Subcategory', 'Analysis Neighborhood', 'Intersection', 'Latitude', 'Longitude'], axis=1)filtered_data_df = data_df.filter(['Incident Datetime', 'Incident Subcategory', 'Analysis Neighborhood', 'Intersection', 'Latitude', 'Longitude'], axis=1)\n",
    "# filtered_data_df = filtered_data_df.loc[['Vehicle' in desc for desc in filtered_data_df['Incident Subcategory']], :]"
   ]
  },
  {
   "cell_type": "code",
   "execution_count": 22,
   "metadata": {},
   "outputs": [
    {
     "data": {
      "text/plain": [
       "Incident Datetime            0\n",
       "Incident Subcategory       271\n",
       "Analysis Neighborhood    20541\n",
       "Intersection             20460\n",
       "Latitude                 20460\n",
       "Longitude                20460\n",
       "dtype: int64"
      ]
     },
     "execution_count": 22,
     "metadata": {},
     "output_type": "execute_result"
    }
   ],
   "source": [
    "filtered_data_df.isnull().sum()"
   ]
  },
  {
   "cell_type": "code",
   "execution_count": 23,
   "metadata": {},
   "outputs": [],
   "source": [
    "filtered_data_df['Incident Subcategory']=filtered_data_df['Incident Subcategory'].fillna('No cathegory')"
   ]
  },
  {
   "cell_type": "code",
   "execution_count": 24,
   "metadata": {},
   "outputs": [],
   "source": [
    "# for desc in filtered_data_df['Incident Subcategory'][0:50]:\n",
    "#      print('Vehicle' in desc)\n",
    "filtered_data_df=filtered_data_df[filtered_data_df['Incident Subcategory'].str.contains(\"Vehicle\")]       \n"
   ]
  },
  {
   "cell_type": "code",
   "execution_count": 20,
   "metadata": {},
   "outputs": [],
   "source": [
    "# filtered_data_df = data_df.filter(['Incident Datetime', 'Incident Description', 'Analysis Neighborhood', 'Intersection', 'Latitude', 'Longitude'], axis=1)\n",
    "# filtered_data_df = filtered_data_df.loc[[desc.startswith('Vehicle, Stolen') for desc in filtered_data_df['Incident Description']], :]\n"
   ]
  },
  {
   "cell_type": "code",
   "execution_count": 25,
   "metadata": {
    "scrolled": true
   },
   "outputs": [
    {
     "data": {
      "text/html": [
       "<div>\n",
       "<style scoped>\n",
       "    .dataframe tbody tr th:only-of-type {\n",
       "        vertical-align: middle;\n",
       "    }\n",
       "\n",
       "    .dataframe tbody tr th {\n",
       "        vertical-align: top;\n",
       "    }\n",
       "\n",
       "    .dataframe thead th {\n",
       "        text-align: right;\n",
       "    }\n",
       "</style>\n",
       "<table border=\"1\" class=\"dataframe\">\n",
       "  <thead>\n",
       "    <tr style=\"text-align: right;\">\n",
       "      <th></th>\n",
       "      <th>Incident Datetime</th>\n",
       "      <th>Incident Subcategory</th>\n",
       "      <th>Analysis Neighborhood</th>\n",
       "      <th>Intersection</th>\n",
       "      <th>Latitude</th>\n",
       "      <th>Longitude</th>\n",
       "    </tr>\n",
       "  </thead>\n",
       "  <tbody>\n",
       "    <tr>\n",
       "      <th>0</th>\n",
       "      <td>2020/08/15 08:56:00 AM</td>\n",
       "      <td>Recovered Vehicle</td>\n",
       "      <td>NaN</td>\n",
       "      <td>NaN</td>\n",
       "      <td>NaN</td>\n",
       "      <td>NaN</td>\n",
       "    </tr>\n",
       "    <tr>\n",
       "      <th>1</th>\n",
       "      <td>2020/08/15 09:40:00 AM</td>\n",
       "      <td>Larceny - From Vehicle</td>\n",
       "      <td>NaN</td>\n",
       "      <td>NaN</td>\n",
       "      <td>NaN</td>\n",
       "      <td>NaN</td>\n",
       "    </tr>\n",
       "    <tr>\n",
       "      <th>8</th>\n",
       "      <td>2020/08/14 02:00:00 PM</td>\n",
       "      <td>Larceny - From Vehicle</td>\n",
       "      <td>Japantown</td>\n",
       "      <td>HEMLOCK ST \\ LAGUNA ST</td>\n",
       "      <td>37.786247</td>\n",
       "      <td>-122.428241</td>\n",
       "    </tr>\n",
       "    <tr>\n",
       "      <th>20</th>\n",
       "      <td>2020/08/16 07:56:00 AM</td>\n",
       "      <td>Recovered Vehicle</td>\n",
       "      <td>Bayview Hunters Point</td>\n",
       "      <td>YOSEMITE AVE \\ INGALLS ST</td>\n",
       "      <td>37.724729</td>\n",
       "      <td>-122.387930</td>\n",
       "    </tr>\n",
       "    <tr>\n",
       "      <th>32</th>\n",
       "      <td>2020/08/16 01:45:00 PM</td>\n",
       "      <td>Recovered Vehicle</td>\n",
       "      <td>Bayview Hunters Point</td>\n",
       "      <td>FAIRFAX AVE \\ NEWHALL ST</td>\n",
       "      <td>37.741297</td>\n",
       "      <td>-122.387143</td>\n",
       "    </tr>\n",
       "  </tbody>\n",
       "</table>\n",
       "</div>"
      ],
      "text/plain": [
       "         Incident Datetime    Incident Subcategory  Analysis Neighborhood  \\\n",
       "0   2020/08/15 08:56:00 AM       Recovered Vehicle                    NaN   \n",
       "1   2020/08/15 09:40:00 AM  Larceny - From Vehicle                    NaN   \n",
       "8   2020/08/14 02:00:00 PM  Larceny - From Vehicle              Japantown   \n",
       "20  2020/08/16 07:56:00 AM       Recovered Vehicle  Bayview Hunters Point   \n",
       "32  2020/08/16 01:45:00 PM       Recovered Vehicle  Bayview Hunters Point   \n",
       "\n",
       "                 Intersection   Latitude   Longitude  \n",
       "0                         NaN        NaN         NaN  \n",
       "1                         NaN        NaN         NaN  \n",
       "8      HEMLOCK ST \\ LAGUNA ST  37.786247 -122.428241  \n",
       "20  YOSEMITE AVE \\ INGALLS ST  37.724729 -122.387930  \n",
       "32   FAIRFAX AVE \\ NEWHALL ST  37.741297 -122.387143  "
      ]
     },
     "execution_count": 25,
     "metadata": {},
     "output_type": "execute_result"
    }
   ],
   "source": [
    "filtered_data_df.head()"
   ]
  },
  {
   "cell_type": "code",
   "execution_count": 50,
   "metadata": {},
   "outputs": [
    {
     "data": {
      "text/plain": [
       "Incident Datetime            0\n",
       "Incident Subcategory         0\n",
       "Analysis Neighborhood    11091\n",
       "Intersection             11085\n",
       "Latitude                 11085\n",
       "Longitude                11085\n",
       "dtype: int64"
      ]
     },
     "execution_count": 50,
     "metadata": {},
     "output_type": "execute_result"
    }
   ],
   "source": [
    "filtered_data_df.isnull().sum()"
   ]
  },
  {
   "cell_type": "code",
   "execution_count": 51,
   "metadata": {},
   "outputs": [
    {
     "data": {
      "text/plain": [
       "(103713, 6)"
      ]
     },
     "execution_count": 51,
     "metadata": {},
     "output_type": "execute_result"
    }
   ],
   "source": [
    "filtered_data_df.shape"
   ]
  },
  {
   "cell_type": "code",
   "execution_count": 26,
   "metadata": {
    "scrolled": true
   },
   "outputs": [
    {
     "data": {
      "text/plain": [
       "array([nan, 'Japantown', 'Bayview Hunters Point',\n",
       "       'Financial District/South Beach', 'Mission', 'Tenderloin',\n",
       "       'Nob Hill', 'Hayes Valley', 'Chinatown', 'South of Market',\n",
       "       'Western Addition', 'Lone Mountain/USF', 'Excelsior',\n",
       "       'Russian Hill', 'Presidio Heights', 'Golden Gate Park',\n",
       "       'Mission Bay', 'West of Twin Peaks', 'Outer Mission',\n",
       "       'Outer Richmond', 'Sunset/Parkside', 'Oceanview/Merced/Ingleside',\n",
       "       'Inner Sunset', 'Marina', 'North Beach', 'Lakeshore',\n",
       "       'Haight Ashbury', 'Portola', 'Castro/Upper Market',\n",
       "       'Visitacion Valley', 'Presidio', 'Potrero Hill', 'Twin Peaks',\n",
       "       'Inner Richmond', 'Treasure Island', 'Bernal Heights',\n",
       "       'Noe Valley', 'Lincoln Park', 'Pacific Heights', 'Glen Park',\n",
       "       'McLaren Park', 'Seacliff'], dtype=object)"
      ]
     },
     "execution_count": 26,
     "metadata": {},
     "output_type": "execute_result"
    }
   ],
   "source": [
    "filtered_data_df['Analysis Neighborhood'].unique()"
   ]
  },
  {
   "cell_type": "code",
   "execution_count": 27,
   "metadata": {},
   "outputs": [],
   "source": [
    "income_data = pd.read_csv('Income by Location.csv')"
   ]
  },
  {
   "cell_type": "code",
   "execution_count": 28,
   "metadata": {
    "scrolled": true
   },
   "outputs": [
    {
     "data": {
      "text/html": [
       "<div>\n",
       "<style scoped>\n",
       "    .dataframe tbody tr th:only-of-type {\n",
       "        vertical-align: middle;\n",
       "    }\n",
       "\n",
       "    .dataframe tbody tr th {\n",
       "        vertical-align: top;\n",
       "    }\n",
       "\n",
       "    .dataframe thead th {\n",
       "        text-align: right;\n",
       "    }\n",
       "</style>\n",
       "<table border=\"1\" class=\"dataframe\">\n",
       "  <thead>\n",
       "    <tr style=\"text-align: right;\">\n",
       "      <th></th>\n",
       "      <th>ID Year</th>\n",
       "      <th>Year</th>\n",
       "      <th>ID Race</th>\n",
       "      <th>Race</th>\n",
       "      <th>Household Income by Race</th>\n",
       "      <th>Household Income by Race Moe</th>\n",
       "      <th>Geography</th>\n",
       "      <th>ID Geography</th>\n",
       "    </tr>\n",
       "  </thead>\n",
       "  <tbody>\n",
       "    <tr>\n",
       "      <th>0</th>\n",
       "      <td>2018.0</td>\n",
       "      <td>2018.0</td>\n",
       "      <td>0.0</td>\n",
       "      <td>Total</td>\n",
       "      <td>67377.0</td>\n",
       "      <td>22799.0</td>\n",
       "      <td>Census Tract 101, San Francisco County, CA</td>\n",
       "      <td>14000US06075010100</td>\n",
       "    </tr>\n",
       "    <tr>\n",
       "      <th>1</th>\n",
       "      <td>2017.0</td>\n",
       "      <td>2017.0</td>\n",
       "      <td>0.0</td>\n",
       "      <td>Total</td>\n",
       "      <td>81509.0</td>\n",
       "      <td>19512.0</td>\n",
       "      <td>Census Tract 101, San Francisco County, CA</td>\n",
       "      <td>14000US06075010100</td>\n",
       "    </tr>\n",
       "    <tr>\n",
       "      <th>2</th>\n",
       "      <td>2016.0</td>\n",
       "      <td>2016.0</td>\n",
       "      <td>0.0</td>\n",
       "      <td>Total</td>\n",
       "      <td>59519.0</td>\n",
       "      <td>15585.0</td>\n",
       "      <td>Census Tract 101, San Francisco County, CA</td>\n",
       "      <td>14000US06075010100</td>\n",
       "    </tr>\n",
       "    <tr>\n",
       "      <th>3</th>\n",
       "      <td>2015.0</td>\n",
       "      <td>2015.0</td>\n",
       "      <td>0.0</td>\n",
       "      <td>Total</td>\n",
       "      <td>61442.0</td>\n",
       "      <td>23965.0</td>\n",
       "      <td>Census Tract 101, San Francisco County, CA</td>\n",
       "      <td>14000US06075010100</td>\n",
       "    </tr>\n",
       "    <tr>\n",
       "      <th>4</th>\n",
       "      <td>2014.0</td>\n",
       "      <td>2014.0</td>\n",
       "      <td>0.0</td>\n",
       "      <td>Total</td>\n",
       "      <td>75725.0</td>\n",
       "      <td>11999.0</td>\n",
       "      <td>Census Tract 101, San Francisco County, CA</td>\n",
       "      <td>14000US06075010100</td>\n",
       "    </tr>\n",
       "  </tbody>\n",
       "</table>\n",
       "</div>"
      ],
      "text/plain": [
       "   ID Year    Year  ID Race   Race  Household Income by Race  \\\n",
       "0   2018.0  2018.0      0.0  Total                   67377.0   \n",
       "1   2017.0  2017.0      0.0  Total                   81509.0   \n",
       "2   2016.0  2016.0      0.0  Total                   59519.0   \n",
       "3   2015.0  2015.0      0.0  Total                   61442.0   \n",
       "4   2014.0  2014.0      0.0  Total                   75725.0   \n",
       "\n",
       "   Household Income by Race Moe                                   Geography  \\\n",
       "0                       22799.0  Census Tract 101, San Francisco County, CA   \n",
       "1                       19512.0  Census Tract 101, San Francisco County, CA   \n",
       "2                       15585.0  Census Tract 101, San Francisco County, CA   \n",
       "3                       23965.0  Census Tract 101, San Francisco County, CA   \n",
       "4                       11999.0  Census Tract 101, San Francisco County, CA   \n",
       "\n",
       "         ID Geography  \n",
       "0  14000US06075010100  \n",
       "1  14000US06075010100  \n",
       "2  14000US06075010100  \n",
       "3  14000US06075010100  \n",
       "4  14000US06075010100  "
      ]
     },
     "execution_count": 28,
     "metadata": {},
     "output_type": "execute_result"
    }
   ],
   "source": [
    "income_data.head()"
   ]
  },
  {
   "cell_type": "code",
   "execution_count": 29,
   "metadata": {},
   "outputs": [
    {
     "data": {
      "text/plain": [
       "ID Year                         float64\n",
       "Year                            float64\n",
       "ID Race                         float64\n",
       "Race                             object\n",
       "Household Income by Race        float64\n",
       "Household Income by Race Moe    float64\n",
       "Geography                        object\n",
       "ID Geography                     object\n",
       "dtype: object"
      ]
     },
     "execution_count": 29,
     "metadata": {},
     "output_type": "execute_result"
    }
   ],
   "source": [
    "income_data.dtypes"
   ]
  },
  {
   "cell_type": "code",
   "execution_count": 30,
   "metadata": {},
   "outputs": [],
   "source": [
    "income_data=income_data[income_data['Year']== 2018]"
   ]
  },
  {
   "cell_type": "code",
   "execution_count": 31,
   "metadata": {},
   "outputs": [],
   "source": [
    "income_data['ID Geography'] = income_data['ID Geography'].apply(lambda x:x[-5:])"
   ]
  },
  {
   "cell_type": "code",
   "execution_count": 32,
   "metadata": {},
   "outputs": [],
   "source": [
    "income_data['ID Geography'] = income_data['ID Geography'].astype(int)"
   ]
  },
  {
   "cell_type": "code",
   "execution_count": 33,
   "metadata": {},
   "outputs": [],
   "source": [
    "income_data = income_data.filter(['ID Geography','Household Income by Race'])"
   ]
  },
  {
   "cell_type": "code",
   "execution_count": 34,
   "metadata": {},
   "outputs": [],
   "source": [
    "lookup_data = pd.read_csv('Analysis_Neighborhoods.csv')"
   ]
  },
  {
   "cell_type": "code",
   "execution_count": 35,
   "metadata": {},
   "outputs": [],
   "source": [
    "lookup_data.rename(columns = {'TRACTCE10':'ID Geography'}, inplace = True) \n",
    "lookup_data = lookup_data.filter(['ID Geography','NHOOD'])"
   ]
  },
  {
   "cell_type": "code",
   "execution_count": 36,
   "metadata": {},
   "outputs": [
    {
     "data": {
      "text/html": [
       "<div>\n",
       "<style scoped>\n",
       "    .dataframe tbody tr th:only-of-type {\n",
       "        vertical-align: middle;\n",
       "    }\n",
       "\n",
       "    .dataframe tbody tr th {\n",
       "        vertical-align: top;\n",
       "    }\n",
       "\n",
       "    .dataframe thead th {\n",
       "        text-align: right;\n",
       "    }\n",
       "</style>\n",
       "<table border=\"1\" class=\"dataframe\">\n",
       "  <thead>\n",
       "    <tr style=\"text-align: right;\">\n",
       "      <th></th>\n",
       "      <th>ID Geography</th>\n",
       "      <th>NHOOD</th>\n",
       "    </tr>\n",
       "  </thead>\n",
       "  <tbody>\n",
       "    <tr>\n",
       "      <th>0</th>\n",
       "      <td>16400</td>\n",
       "      <td>Hayes Valley</td>\n",
       "    </tr>\n",
       "    <tr>\n",
       "      <th>1</th>\n",
       "      <td>16100</td>\n",
       "      <td>Western Addition</td>\n",
       "    </tr>\n",
       "    <tr>\n",
       "      <th>2</th>\n",
       "      <td>15900</td>\n",
       "      <td>Western Addition</td>\n",
       "    </tr>\n",
       "    <tr>\n",
       "      <th>3</th>\n",
       "      <td>15500</td>\n",
       "      <td>Japantown</td>\n",
       "    </tr>\n",
       "    <tr>\n",
       "      <th>4</th>\n",
       "      <td>15300</td>\n",
       "      <td>Pacific Heights</td>\n",
       "    </tr>\n",
       "  </tbody>\n",
       "</table>\n",
       "</div>"
      ],
      "text/plain": [
       "   ID Geography             NHOOD\n",
       "0         16400      Hayes Valley\n",
       "1         16100  Western Addition\n",
       "2         15900  Western Addition\n",
       "3         15500         Japantown\n",
       "4         15300   Pacific Heights"
      ]
     },
     "execution_count": 36,
     "metadata": {},
     "output_type": "execute_result"
    }
   ],
   "source": [
    "lookup_data.head()"
   ]
  },
  {
   "cell_type": "code",
   "execution_count": 33,
   "metadata": {},
   "outputs": [
    {
     "ename": "TypeError",
     "evalue": "rename() got an unexpected keyword argument 'columns'",
     "output_type": "error",
     "traceback": [
      "\u001b[1;31m---------------------------------------------------------------------------\u001b[0m",
      "\u001b[1;31mTypeError\u001b[0m                                 Traceback (most recent call last)",
      "\u001b[1;32m<ipython-input-33-a84b0204bd08>\u001b[0m in \u001b[0;36m<module>\u001b[1;34m\u001b[0m\n\u001b[1;32m----> 1\u001b[1;33m \u001b[0mlookup_data\u001b[0m\u001b[1;33m.\u001b[0m\u001b[0mrename\u001b[0m\u001b[1;33m(\u001b[0m\u001b[0mcolumns\u001b[0m \u001b[1;33m=\u001b[0m \u001b[1;33m{\u001b[0m\u001b[1;34m'TRACTCE10'\u001b[0m\u001b[1;33m:\u001b[0m\u001b[1;34m'ID Geography'\u001b[0m\u001b[1;33m}\u001b[0m\u001b[1;33m,\u001b[0m \u001b[0minplace\u001b[0m \u001b[1;33m=\u001b[0m \u001b[1;32mTrue\u001b[0m\u001b[1;33m)\u001b[0m\u001b[1;33m\u001b[0m\u001b[1;33m\u001b[0m\u001b[0m\n\u001b[0m",
      "\u001b[1;31mTypeError\u001b[0m: rename() got an unexpected keyword argument 'columns'"
     ]
    }
   ],
   "source": []
  },
  {
   "cell_type": "code",
   "execution_count": 37,
   "metadata": {
    "scrolled": true
   },
   "outputs": [],
   "source": [
    "income_neigh =pd.merge(income_data,lookup_data)"
   ]
  },
  {
   "cell_type": "code",
   "execution_count": 38,
   "metadata": {},
   "outputs": [
    {
     "data": {
      "text/html": [
       "<div>\n",
       "<style scoped>\n",
       "    .dataframe tbody tr th:only-of-type {\n",
       "        vertical-align: middle;\n",
       "    }\n",
       "\n",
       "    .dataframe tbody tr th {\n",
       "        vertical-align: top;\n",
       "    }\n",
       "\n",
       "    .dataframe thead th {\n",
       "        text-align: right;\n",
       "    }\n",
       "</style>\n",
       "<table border=\"1\" class=\"dataframe\">\n",
       "  <thead>\n",
       "    <tr style=\"text-align: right;\">\n",
       "      <th></th>\n",
       "      <th>ID Geography</th>\n",
       "      <th>Household Income by Race</th>\n",
       "      <th>NHOOD</th>\n",
       "    </tr>\n",
       "  </thead>\n",
       "  <tbody>\n",
       "    <tr>\n",
       "      <th>0</th>\n",
       "      <td>10100</td>\n",
       "      <td>67377.0</td>\n",
       "      <td>North Beach</td>\n",
       "    </tr>\n",
       "    <tr>\n",
       "      <th>1</th>\n",
       "      <td>10200</td>\n",
       "      <td>134176.0</td>\n",
       "      <td>Russian Hill</td>\n",
       "    </tr>\n",
       "    <tr>\n",
       "      <th>2</th>\n",
       "      <td>10300</td>\n",
       "      <td>138630.0</td>\n",
       "      <td>Russian Hill</td>\n",
       "    </tr>\n",
       "    <tr>\n",
       "      <th>3</th>\n",
       "      <td>10400</td>\n",
       "      <td>111105.0</td>\n",
       "      <td>North Beach</td>\n",
       "    </tr>\n",
       "    <tr>\n",
       "      <th>4</th>\n",
       "      <td>10500</td>\n",
       "      <td>125511.0</td>\n",
       "      <td>Financial District/South Beach</td>\n",
       "    </tr>\n",
       "  </tbody>\n",
       "</table>\n",
       "</div>"
      ],
      "text/plain": [
       "   ID Geography  Household Income by Race                           NHOOD\n",
       "0         10100                   67377.0                     North Beach\n",
       "1         10200                  134176.0                    Russian Hill\n",
       "2         10300                  138630.0                    Russian Hill\n",
       "3         10400                  111105.0                     North Beach\n",
       "4         10500                  125511.0  Financial District/South Beach"
      ]
     },
     "execution_count": 38,
     "metadata": {},
     "output_type": "execute_result"
    }
   ],
   "source": [
    "income_neigh.head()"
   ]
  },
  {
   "cell_type": "code",
   "execution_count": 39,
   "metadata": {},
   "outputs": [],
   "source": [
    "income_neigh_data=income_neigh.groupby('NHOOD').sum()"
   ]
  },
  {
   "cell_type": "code",
   "execution_count": 40,
   "metadata": {},
   "outputs": [],
   "source": [
    "income_neigh_data.reset_index(inplace=True)"
   ]
  },
  {
   "cell_type": "code",
   "execution_count": 41,
   "metadata": {},
   "outputs": [
    {
     "data": {
      "text/html": [
       "<div>\n",
       "<style scoped>\n",
       "    .dataframe tbody tr th:only-of-type {\n",
       "        vertical-align: middle;\n",
       "    }\n",
       "\n",
       "    .dataframe tbody tr th {\n",
       "        vertical-align: top;\n",
       "    }\n",
       "\n",
       "    .dataframe thead th {\n",
       "        text-align: right;\n",
       "    }\n",
       "</style>\n",
       "<table border=\"1\" class=\"dataframe\">\n",
       "  <thead>\n",
       "    <tr style=\"text-align: right;\">\n",
       "      <th></th>\n",
       "      <th>NHOOD</th>\n",
       "      <th>ID Geography</th>\n",
       "      <th>Household Income by Race</th>\n",
       "    </tr>\n",
       "  </thead>\n",
       "  <tbody>\n",
       "    <tr>\n",
       "      <th>0</th>\n",
       "      <td>Bayview Hunters Point</td>\n",
       "      <td>284309</td>\n",
       "      <td>518513.0</td>\n",
       "    </tr>\n",
       "    <tr>\n",
       "      <th>1</th>\n",
       "      <td>Bernal Heights</td>\n",
       "      <td>151806</td>\n",
       "      <td>797803.0</td>\n",
       "    </tr>\n",
       "    <tr>\n",
       "      <th>2</th>\n",
       "      <td>Castro/Upper Market</td>\n",
       "      <td>115701</td>\n",
       "      <td>893269.0</td>\n",
       "    </tr>\n",
       "    <tr>\n",
       "      <th>3</th>\n",
       "      <td>Chinatown</td>\n",
       "      <td>94900</td>\n",
       "      <td>111821.0</td>\n",
       "    </tr>\n",
       "    <tr>\n",
       "      <th>4</th>\n",
       "      <td>Excelsior</td>\n",
       "      <td>208516</td>\n",
       "      <td>684691.0</td>\n",
       "    </tr>\n",
       "    <tr>\n",
       "      <th>5</th>\n",
       "      <td>Financial District/South Beach</td>\n",
       "      <td>83700</td>\n",
       "      <td>378798.0</td>\n",
       "    </tr>\n",
       "    <tr>\n",
       "      <th>6</th>\n",
       "      <td>Glen Park</td>\n",
       "      <td>43500</td>\n",
       "      <td>323827.0</td>\n",
       "    </tr>\n",
       "    <tr>\n",
       "      <th>7</th>\n",
       "      <td>Haight Ashbury</td>\n",
       "      <td>67503</td>\n",
       "      <td>650056.0</td>\n",
       "    </tr>\n",
       "    <tr>\n",
       "      <th>8</th>\n",
       "      <td>Hayes Valley</td>\n",
       "      <td>82503</td>\n",
       "      <td>601261.0</td>\n",
       "    </tr>\n",
       "    <tr>\n",
       "      <th>9</th>\n",
       "      <td>Inner Richmond</td>\n",
       "      <td>170600</td>\n",
       "      <td>415389.0</td>\n",
       "    </tr>\n",
       "    <tr>\n",
       "      <th>10</th>\n",
       "      <td>Inner Sunset</td>\n",
       "      <td>181209</td>\n",
       "      <td>783202.0</td>\n",
       "    </tr>\n",
       "    <tr>\n",
       "      <th>11</th>\n",
       "      <td>Japantown</td>\n",
       "      <td>15500</td>\n",
       "      <td>64412.0</td>\n",
       "    </tr>\n",
       "    <tr>\n",
       "      <th>12</th>\n",
       "      <td>Lakeshore</td>\n",
       "      <td>160008</td>\n",
       "      <td>208748.0</td>\n",
       "    </tr>\n",
       "    <tr>\n",
       "      <th>13</th>\n",
       "      <td>Lone Mountain/USF</td>\n",
       "      <td>47800</td>\n",
       "      <td>344673.0</td>\n",
       "    </tr>\n",
       "    <tr>\n",
       "      <th>14</th>\n",
       "      <td>Marina</td>\n",
       "      <td>89506</td>\n",
       "      <td>1011050.0</td>\n",
       "    </tr>\n",
       "    <tr>\n",
       "      <th>15</th>\n",
       "      <td>Mission</td>\n",
       "      <td>278512</td>\n",
       "      <td>1474096.0</td>\n",
       "    </tr>\n",
       "    <tr>\n",
       "      <th>16</th>\n",
       "      <td>Mission Bay</td>\n",
       "      <td>60700</td>\n",
       "      <td>158667.0</td>\n",
       "    </tr>\n",
       "    <tr>\n",
       "      <th>17</th>\n",
       "      <td>Nob Hill</td>\n",
       "      <td>81003</td>\n",
       "      <td>623213.0</td>\n",
       "    </tr>\n",
       "    <tr>\n",
       "      <th>18</th>\n",
       "      <td>Noe Valley</td>\n",
       "      <td>128100</td>\n",
       "      <td>971476.0</td>\n",
       "    </tr>\n",
       "    <tr>\n",
       "      <th>19</th>\n",
       "      <td>North Beach</td>\n",
       "      <td>31100</td>\n",
       "      <td>218862.0</td>\n",
       "    </tr>\n",
       "    <tr>\n",
       "      <th>20</th>\n",
       "      <td>Oceanview/Merced/Ingleside</td>\n",
       "      <td>156406</td>\n",
       "      <td>415219.0</td>\n",
       "    </tr>\n",
       "    <tr>\n",
       "      <th>21</th>\n",
       "      <td>Outer Mission</td>\n",
       "      <td>77800</td>\n",
       "      <td>281860.0</td>\n",
       "    </tr>\n",
       "    <tr>\n",
       "      <th>22</th>\n",
       "      <td>Outer Richmond</td>\n",
       "      <td>462312</td>\n",
       "      <td>972993.0</td>\n",
       "    </tr>\n",
       "    <tr>\n",
       "      <th>23</th>\n",
       "      <td>Pacific Heights</td>\n",
       "      <td>96803</td>\n",
       "      <td>1034543.0</td>\n",
       "    </tr>\n",
       "    <tr>\n",
       "      <th>24</th>\n",
       "      <td>Portola</td>\n",
       "      <td>103103</td>\n",
       "      <td>369233.0</td>\n",
       "    </tr>\n",
       "    <tr>\n",
       "      <th>25</th>\n",
       "      <td>Potrero Hill</td>\n",
       "      <td>129406</td>\n",
       "      <td>691226.0</td>\n",
       "    </tr>\n",
       "    <tr>\n",
       "      <th>26</th>\n",
       "      <td>Presidio</td>\n",
       "      <td>60100</td>\n",
       "      <td>184934.0</td>\n",
       "    </tr>\n",
       "    <tr>\n",
       "      <th>27</th>\n",
       "      <td>Presidio Heights</td>\n",
       "      <td>28700</td>\n",
       "      <td>288151.0</td>\n",
       "    </tr>\n",
       "    <tr>\n",
       "      <th>28</th>\n",
       "      <td>Russian Hill</td>\n",
       "      <td>42400</td>\n",
       "      <td>539522.0</td>\n",
       "    </tr>\n",
       "    <tr>\n",
       "      <th>29</th>\n",
       "      <td>Seacliff</td>\n",
       "      <td>42800</td>\n",
       "      <td>164750.0</td>\n",
       "    </tr>\n",
       "    <tr>\n",
       "      <th>30</th>\n",
       "      <td>South of Market</td>\n",
       "      <td>71204</td>\n",
       "      <td>291716.0</td>\n",
       "    </tr>\n",
       "    <tr>\n",
       "      <th>31</th>\n",
       "      <td>Sunset/Parkside</td>\n",
       "      <td>471612</td>\n",
       "      <td>1471679.0</td>\n",
       "    </tr>\n",
       "    <tr>\n",
       "      <th>32</th>\n",
       "      <td>Tenderloin</td>\n",
       "      <td>98812</td>\n",
       "      <td>292770.0</td>\n",
       "    </tr>\n",
       "    <tr>\n",
       "      <th>33</th>\n",
       "      <td>Treasure Island</td>\n",
       "      <td>17902</td>\n",
       "      <td>59063.0</td>\n",
       "    </tr>\n",
       "    <tr>\n",
       "      <th>34</th>\n",
       "      <td>Twin Peaks</td>\n",
       "      <td>50902</td>\n",
       "      <td>256376.0</td>\n",
       "    </tr>\n",
       "    <tr>\n",
       "      <th>35</th>\n",
       "      <td>Visitacion Valley</td>\n",
       "      <td>166112</td>\n",
       "      <td>313776.0</td>\n",
       "    </tr>\n",
       "    <tr>\n",
       "      <th>36</th>\n",
       "      <td>West of Twin Peaks</td>\n",
       "      <td>215500</td>\n",
       "      <td>1084264.0</td>\n",
       "    </tr>\n",
       "    <tr>\n",
       "      <th>37</th>\n",
       "      <td>Western Addition</td>\n",
       "      <td>94703</td>\n",
       "      <td>482956.0</td>\n",
       "    </tr>\n",
       "  </tbody>\n",
       "</table>\n",
       "</div>"
      ],
      "text/plain": [
       "                             NHOOD  ID Geography  Household Income by Race\n",
       "0            Bayview Hunters Point        284309                  518513.0\n",
       "1                   Bernal Heights        151806                  797803.0\n",
       "2              Castro/Upper Market        115701                  893269.0\n",
       "3                        Chinatown         94900                  111821.0\n",
       "4                        Excelsior        208516                  684691.0\n",
       "5   Financial District/South Beach         83700                  378798.0\n",
       "6                        Glen Park         43500                  323827.0\n",
       "7                   Haight Ashbury         67503                  650056.0\n",
       "8                     Hayes Valley         82503                  601261.0\n",
       "9                   Inner Richmond        170600                  415389.0\n",
       "10                    Inner Sunset        181209                  783202.0\n",
       "11                       Japantown         15500                   64412.0\n",
       "12                       Lakeshore        160008                  208748.0\n",
       "13               Lone Mountain/USF         47800                  344673.0\n",
       "14                          Marina         89506                 1011050.0\n",
       "15                         Mission        278512                 1474096.0\n",
       "16                     Mission Bay         60700                  158667.0\n",
       "17                        Nob Hill         81003                  623213.0\n",
       "18                      Noe Valley        128100                  971476.0\n",
       "19                     North Beach         31100                  218862.0\n",
       "20      Oceanview/Merced/Ingleside        156406                  415219.0\n",
       "21                   Outer Mission         77800                  281860.0\n",
       "22                  Outer Richmond        462312                  972993.0\n",
       "23                 Pacific Heights         96803                 1034543.0\n",
       "24                         Portola        103103                  369233.0\n",
       "25                    Potrero Hill        129406                  691226.0\n",
       "26                        Presidio         60100                  184934.0\n",
       "27                Presidio Heights         28700                  288151.0\n",
       "28                    Russian Hill         42400                  539522.0\n",
       "29                        Seacliff         42800                  164750.0\n",
       "30                 South of Market         71204                  291716.0\n",
       "31                 Sunset/Parkside        471612                 1471679.0\n",
       "32                      Tenderloin         98812                  292770.0\n",
       "33                 Treasure Island         17902                   59063.0\n",
       "34                      Twin Peaks         50902                  256376.0\n",
       "35               Visitacion Valley        166112                  313776.0\n",
       "36              West of Twin Peaks        215500                 1084264.0\n",
       "37                Western Addition         94703                  482956.0"
      ]
     },
     "execution_count": 41,
     "metadata": {},
     "output_type": "execute_result"
    }
   ],
   "source": [
    "income_neigh_data"
   ]
  },
  {
   "cell_type": "code",
   "execution_count": 42,
   "metadata": {
    "scrolled": true
   },
   "outputs": [],
   "source": [
    "x=income_neigh_data['NHOOD'].unique()"
   ]
  },
  {
   "cell_type": "code",
   "execution_count": 43,
   "metadata": {},
   "outputs": [
    {
     "data": {
      "text/plain": [
       "array(['Bayview Hunters Point', 'Bernal Heights', 'Castro/Upper Market',\n",
       "       'Chinatown', 'Excelsior', 'Financial District/South Beach',\n",
       "       'Glen Park', 'Haight Ashbury', 'Hayes Valley', 'Inner Richmond',\n",
       "       'Inner Sunset', 'Japantown', 'Lakeshore', 'Lone Mountain/USF',\n",
       "       'Marina', 'Mission', 'Mission Bay', 'Nob Hill', 'Noe Valley',\n",
       "       'North Beach', 'Oceanview/Merced/Ingleside', 'Outer Mission',\n",
       "       'Outer Richmond', 'Pacific Heights', 'Portola', 'Potrero Hill',\n",
       "       'Presidio', 'Presidio Heights', 'Russian Hill', 'Seacliff',\n",
       "       'South of Market', 'Sunset/Parkside', 'Tenderloin',\n",
       "       'Treasure Island', 'Twin Peaks', 'Visitacion Valley',\n",
       "       'West of Twin Peaks', 'Western Addition'], dtype=object)"
      ]
     },
     "execution_count": 43,
     "metadata": {},
     "output_type": "execute_result"
    }
   ],
   "source": [
    "np.sort(x)"
   ]
  },
  {
   "cell_type": "code",
   "execution_count": 44,
   "metadata": {},
   "outputs": [
    {
     "data": {
      "text/plain": [
       "array([nan, 'Japantown', 'Bayview Hunters Point',\n",
       "       'Financial District/South Beach', 'Mission', 'Tenderloin',\n",
       "       'Nob Hill', 'Hayes Valley', 'Chinatown', 'South of Market',\n",
       "       'Western Addition', 'Lone Mountain/USF', 'Excelsior',\n",
       "       'Russian Hill', 'Presidio Heights', 'Golden Gate Park',\n",
       "       'Mission Bay', 'West of Twin Peaks', 'Outer Mission',\n",
       "       'Outer Richmond', 'Sunset/Parkside', 'Oceanview/Merced/Ingleside',\n",
       "       'Inner Sunset', 'Marina', 'North Beach', 'Lakeshore',\n",
       "       'Haight Ashbury', 'Portola', 'Castro/Upper Market',\n",
       "       'Visitacion Valley', 'Presidio', 'Potrero Hill', 'Twin Peaks',\n",
       "       'Inner Richmond', 'Treasure Island', 'Bernal Heights',\n",
       "       'Noe Valley', 'Lincoln Park', 'Pacific Heights', 'Glen Park',\n",
       "       'McLaren Park', 'Seacliff'], dtype=object)"
      ]
     },
     "execution_count": 44,
     "metadata": {},
     "output_type": "execute_result"
    }
   ],
   "source": [
    "filtered_data_df['Analysis Neighborhood'].unique()\n"
   ]
  },
  {
   "cell_type": "code",
   "execution_count": 53,
   "metadata": {},
   "outputs": [],
   "source": [
    "nbr_incident_df = filtered_data_df['Analysis Neighborhood'].value_counts().to_frame().reset_index()\n",
    "nbr_incident_df.columns = ['NHOOD', 'theft_count']"
   ]
  },
  {
   "cell_type": "code",
   "execution_count": 54,
   "metadata": {
    "scrolled": true
   },
   "outputs": [
    {
     "data": {
      "text/html": [
       "<div>\n",
       "<style scoped>\n",
       "    .dataframe tbody tr th:only-of-type {\n",
       "        vertical-align: middle;\n",
       "    }\n",
       "\n",
       "    .dataframe tbody tr th {\n",
       "        vertical-align: top;\n",
       "    }\n",
       "\n",
       "    .dataframe thead th {\n",
       "        text-align: right;\n",
       "    }\n",
       "</style>\n",
       "<table border=\"1\" class=\"dataframe\">\n",
       "  <thead>\n",
       "    <tr style=\"text-align: right;\">\n",
       "      <th></th>\n",
       "      <th>NHOOD</th>\n",
       "      <th>theft_count</th>\n",
       "    </tr>\n",
       "  </thead>\n",
       "  <tbody>\n",
       "    <tr>\n",
       "      <th>0</th>\n",
       "      <td>Mission</td>\n",
       "      <td>8364</td>\n",
       "    </tr>\n",
       "    <tr>\n",
       "      <th>1</th>\n",
       "      <td>South of Market</td>\n",
       "      <td>5910</td>\n",
       "    </tr>\n",
       "    <tr>\n",
       "      <th>2</th>\n",
       "      <td>Financial District/South Beach</td>\n",
       "      <td>5807</td>\n",
       "    </tr>\n",
       "    <tr>\n",
       "      <th>3</th>\n",
       "      <td>Bayview Hunters Point</td>\n",
       "      <td>5695</td>\n",
       "    </tr>\n",
       "    <tr>\n",
       "      <th>4</th>\n",
       "      <td>North Beach</td>\n",
       "      <td>4446</td>\n",
       "    </tr>\n",
       "    <tr>\n",
       "      <th>5</th>\n",
       "      <td>Tenderloin</td>\n",
       "      <td>4427</td>\n",
       "    </tr>\n",
       "    <tr>\n",
       "      <th>6</th>\n",
       "      <td>Hayes Valley</td>\n",
       "      <td>4109</td>\n",
       "    </tr>\n",
       "    <tr>\n",
       "      <th>7</th>\n",
       "      <td>Western Addition</td>\n",
       "      <td>4080</td>\n",
       "    </tr>\n",
       "    <tr>\n",
       "      <th>8</th>\n",
       "      <td>Russian Hill</td>\n",
       "      <td>3766</td>\n",
       "    </tr>\n",
       "    <tr>\n",
       "      <th>9</th>\n",
       "      <td>Outer Richmond</td>\n",
       "      <td>3300</td>\n",
       "    </tr>\n",
       "    <tr>\n",
       "      <th>10</th>\n",
       "      <td>Marina</td>\n",
       "      <td>3286</td>\n",
       "    </tr>\n",
       "    <tr>\n",
       "      <th>11</th>\n",
       "      <td>Sunset/Parkside</td>\n",
       "      <td>2737</td>\n",
       "    </tr>\n",
       "    <tr>\n",
       "      <th>12</th>\n",
       "      <td>Nob Hill</td>\n",
       "      <td>2660</td>\n",
       "    </tr>\n",
       "    <tr>\n",
       "      <th>13</th>\n",
       "      <td>Castro/Upper Market</td>\n",
       "      <td>2528</td>\n",
       "    </tr>\n",
       "    <tr>\n",
       "      <th>14</th>\n",
       "      <td>Potrero Hill</td>\n",
       "      <td>2262</td>\n",
       "    </tr>\n",
       "    <tr>\n",
       "      <th>15</th>\n",
       "      <td>Pacific Heights</td>\n",
       "      <td>2178</td>\n",
       "    </tr>\n",
       "    <tr>\n",
       "      <th>16</th>\n",
       "      <td>West of Twin Peaks</td>\n",
       "      <td>2152</td>\n",
       "    </tr>\n",
       "    <tr>\n",
       "      <th>17</th>\n",
       "      <td>Japantown</td>\n",
       "      <td>1893</td>\n",
       "    </tr>\n",
       "    <tr>\n",
       "      <th>18</th>\n",
       "      <td>Bernal Heights</td>\n",
       "      <td>1773</td>\n",
       "    </tr>\n",
       "    <tr>\n",
       "      <th>19</th>\n",
       "      <td>Golden Gate Park</td>\n",
       "      <td>1596</td>\n",
       "    </tr>\n",
       "    <tr>\n",
       "      <th>20</th>\n",
       "      <td>Haight Ashbury</td>\n",
       "      <td>1591</td>\n",
       "    </tr>\n",
       "    <tr>\n",
       "      <th>21</th>\n",
       "      <td>Inner Sunset</td>\n",
       "      <td>1477</td>\n",
       "    </tr>\n",
       "    <tr>\n",
       "      <th>22</th>\n",
       "      <td>Inner Richmond</td>\n",
       "      <td>1473</td>\n",
       "    </tr>\n",
       "    <tr>\n",
       "      <th>23</th>\n",
       "      <td>Excelsior</td>\n",
       "      <td>1328</td>\n",
       "    </tr>\n",
       "    <tr>\n",
       "      <th>24</th>\n",
       "      <td>Lakeshore</td>\n",
       "      <td>1310</td>\n",
       "    </tr>\n",
       "    <tr>\n",
       "      <th>25</th>\n",
       "      <td>Chinatown</td>\n",
       "      <td>1280</td>\n",
       "    </tr>\n",
       "    <tr>\n",
       "      <th>26</th>\n",
       "      <td>Lone Mountain/USF</td>\n",
       "      <td>1280</td>\n",
       "    </tr>\n",
       "    <tr>\n",
       "      <th>27</th>\n",
       "      <td>Portola</td>\n",
       "      <td>1198</td>\n",
       "    </tr>\n",
       "    <tr>\n",
       "      <th>28</th>\n",
       "      <td>Mission Bay</td>\n",
       "      <td>1196</td>\n",
       "    </tr>\n",
       "    <tr>\n",
       "      <th>29</th>\n",
       "      <td>Outer Mission</td>\n",
       "      <td>1163</td>\n",
       "    </tr>\n",
       "    <tr>\n",
       "      <th>30</th>\n",
       "      <td>Noe Valley</td>\n",
       "      <td>1075</td>\n",
       "    </tr>\n",
       "    <tr>\n",
       "      <th>31</th>\n",
       "      <td>Twin Peaks</td>\n",
       "      <td>928</td>\n",
       "    </tr>\n",
       "    <tr>\n",
       "      <th>32</th>\n",
       "      <td>Oceanview/Merced/Ingleside</td>\n",
       "      <td>871</td>\n",
       "    </tr>\n",
       "    <tr>\n",
       "      <th>33</th>\n",
       "      <td>Visitacion Valley</td>\n",
       "      <td>855</td>\n",
       "    </tr>\n",
       "    <tr>\n",
       "      <th>34</th>\n",
       "      <td>Glen Park</td>\n",
       "      <td>673</td>\n",
       "    </tr>\n",
       "    <tr>\n",
       "      <th>35</th>\n",
       "      <td>Presidio Heights</td>\n",
       "      <td>616</td>\n",
       "    </tr>\n",
       "    <tr>\n",
       "      <th>36</th>\n",
       "      <td>Presidio</td>\n",
       "      <td>442</td>\n",
       "    </tr>\n",
       "    <tr>\n",
       "      <th>37</th>\n",
       "      <td>Lincoln Park</td>\n",
       "      <td>345</td>\n",
       "    </tr>\n",
       "    <tr>\n",
       "      <th>38</th>\n",
       "      <td>Treasure Island</td>\n",
       "      <td>233</td>\n",
       "    </tr>\n",
       "    <tr>\n",
       "      <th>39</th>\n",
       "      <td>Seacliff</td>\n",
       "      <td>177</td>\n",
       "    </tr>\n",
       "    <tr>\n",
       "      <th>40</th>\n",
       "      <td>McLaren Park</td>\n",
       "      <td>142</td>\n",
       "    </tr>\n",
       "  </tbody>\n",
       "</table>\n",
       "</div>"
      ],
      "text/plain": [
       "                             NHOOD  theft_count\n",
       "0                          Mission         8364\n",
       "1                  South of Market         5910\n",
       "2   Financial District/South Beach         5807\n",
       "3            Bayview Hunters Point         5695\n",
       "4                      North Beach         4446\n",
       "5                       Tenderloin         4427\n",
       "6                     Hayes Valley         4109\n",
       "7                 Western Addition         4080\n",
       "8                     Russian Hill         3766\n",
       "9                   Outer Richmond         3300\n",
       "10                          Marina         3286\n",
       "11                 Sunset/Parkside         2737\n",
       "12                        Nob Hill         2660\n",
       "13             Castro/Upper Market         2528\n",
       "14                    Potrero Hill         2262\n",
       "15                 Pacific Heights         2178\n",
       "16              West of Twin Peaks         2152\n",
       "17                       Japantown         1893\n",
       "18                  Bernal Heights         1773\n",
       "19                Golden Gate Park         1596\n",
       "20                  Haight Ashbury         1591\n",
       "21                    Inner Sunset         1477\n",
       "22                  Inner Richmond         1473\n",
       "23                       Excelsior         1328\n",
       "24                       Lakeshore         1310\n",
       "25                       Chinatown         1280\n",
       "26               Lone Mountain/USF         1280\n",
       "27                         Portola         1198\n",
       "28                     Mission Bay         1196\n",
       "29                   Outer Mission         1163\n",
       "30                      Noe Valley         1075\n",
       "31                      Twin Peaks          928\n",
       "32      Oceanview/Merced/Ingleside          871\n",
       "33               Visitacion Valley          855\n",
       "34                       Glen Park          673\n",
       "35                Presidio Heights          616\n",
       "36                        Presidio          442\n",
       "37                    Lincoln Park          345\n",
       "38                 Treasure Island          233\n",
       "39                        Seacliff          177\n",
       "40                    McLaren Park          142"
      ]
     },
     "execution_count": 54,
     "metadata": {},
     "output_type": "execute_result"
    }
   ],
   "source": [
    "nbr_incident_df"
   ]
  },
  {
   "cell_type": "code",
   "execution_count": 47,
   "metadata": {},
   "outputs": [],
   "source": [
    "def permutation_test(series1, series2, no_iter=2000):\n",
    "    r = series1.corr(series2)\n",
    "    count = 1\n",
    "    for _ in range(no_iter-1):\n",
    "        shuffle(series2)\n",
    "        if series1.corr(series2) >= r:\n",
    "            count += 1\n",
    "    pval = count/no_iter\n",
    "    return r, pval"
   ]
  },
  {
   "cell_type": "code",
   "execution_count": 48,
   "metadata": {},
   "outputs": [
    {
     "data": {
      "text/html": [
       "<div>\n",
       "<style scoped>\n",
       "    .dataframe tbody tr th:only-of-type {\n",
       "        vertical-align: middle;\n",
       "    }\n",
       "\n",
       "    .dataframe tbody tr th {\n",
       "        vertical-align: top;\n",
       "    }\n",
       "\n",
       "    .dataframe thead th {\n",
       "        text-align: right;\n",
       "    }\n",
       "</style>\n",
       "<table border=\"1\" class=\"dataframe\">\n",
       "  <thead>\n",
       "    <tr style=\"text-align: right;\">\n",
       "      <th></th>\n",
       "      <th>NHOOD</th>\n",
       "      <th>theft_count</th>\n",
       "      <th>ID Geography</th>\n",
       "      <th>Household Income by Race</th>\n",
       "    </tr>\n",
       "  </thead>\n",
       "  <tbody>\n",
       "    <tr>\n",
       "      <th>0</th>\n",
       "      <td>Mission</td>\n",
       "      <td>8364</td>\n",
       "      <td>17700</td>\n",
       "      <td>114722.0</td>\n",
       "    </tr>\n",
       "    <tr>\n",
       "      <th>1</th>\n",
       "      <td>Mission</td>\n",
       "      <td>8364</td>\n",
       "      <td>20100</td>\n",
       "      <td>46750.0</td>\n",
       "    </tr>\n",
       "    <tr>\n",
       "      <th>2</th>\n",
       "      <td>Mission</td>\n",
       "      <td>8364</td>\n",
       "      <td>20200</td>\n",
       "      <td>100099.0</td>\n",
       "    </tr>\n",
       "    <tr>\n",
       "      <th>3</th>\n",
       "      <td>Mission</td>\n",
       "      <td>8364</td>\n",
       "      <td>20700</td>\n",
       "      <td>167422.0</td>\n",
       "    </tr>\n",
       "    <tr>\n",
       "      <th>4</th>\n",
       "      <td>Mission</td>\n",
       "      <td>8364</td>\n",
       "      <td>20800</td>\n",
       "      <td>103134.0</td>\n",
       "    </tr>\n",
       "  </tbody>\n",
       "</table>\n",
       "</div>"
      ],
      "text/plain": [
       "     NHOOD  theft_count  ID Geography  Household Income by Race\n",
       "0  Mission         8364         17700                  114722.0\n",
       "1  Mission         8364         20100                   46750.0\n",
       "2  Mission         8364         20200                  100099.0\n",
       "3  Mission         8364         20700                  167422.0\n",
       "4  Mission         8364         20800                  103134.0"
      ]
     },
     "execution_count": 48,
     "metadata": {},
     "output_type": "execute_result"
    }
   ],
   "source": [
    "merged_df = nbr_incident_df.merge(income_neigh)\n",
    "merged_df.head()"
   ]
  },
  {
   "cell_type": "code",
   "execution_count": 55,
   "metadata": {},
   "outputs": [
    {
     "data": {
      "text/plain": [
       "NHOOD                       0\n",
       "theft_count                 0\n",
       "ID Geography                0\n",
       "Household Income by Race    0\n",
       "dtype: int64"
      ]
     },
     "execution_count": 55,
     "metadata": {},
     "output_type": "execute_result"
    }
   ],
   "source": [
    "merged_df.isna().sum()"
   ]
  },
  {
   "cell_type": "code",
   "execution_count": 49,
   "metadata": {
    "scrolled": true
   },
   "outputs": [
    {
     "name": "stderr",
     "output_type": "stream",
     "text": [
      "C:\\Users\\aashi\\Anaconda3\\lib\\random.py:278: SettingWithCopyWarning: \n",
      "A value is trying to be set on a copy of a slice from a DataFrame\n",
      "\n",
      "See the caveats in the documentation: https://pandas.pydata.org/pandas-docs/stable/user_guide/indexing.html#returning-a-view-versus-a-copy\n",
      "  x[i], x[j] = x[j], x[i]\n"
     ]
    },
    {
     "name": "stdout",
     "output_type": "stream",
     "text": [
      "Correlation b/w neighborhood income and vehicle theft count:\n",
      "Pearson r: 0.37\n",
      "Empirical p-val: 0.0180\n"
     ]
    }
   ],
   "source": [
    "merged_df = nbr_incident_df.merge(income_neigh_data)\n",
    "r, pval = permutation_test(merged_df['theft_count'], merged_df['Household Income by Race'])\n",
    "print('Correlation b/w neighborhood income and vehicle theft count:')\n",
    "print('Pearson r: {:.2f}'.format(r))\n",
    "print('Empirical p-val: {:.4f}'.format(pval))"
   ]
  },
  {
   "cell_type": "code",
   "execution_count": 60,
   "metadata": {},
   "outputs": [
    {
     "name": "stderr",
     "output_type": "stream",
     "text": [
      "ERROR: Could not find a version that satisfies the requirement Polygon (from versions: none)\n",
      "ERROR: No matching distribution found for Polygon\n"
     ]
    }
   ],
   "source": [
    "!pip install "
   ]
  },
  {
   "cell_type": "code",
   "execution_count": 58,
   "metadata": {
    "scrolled": true
   },
   "outputs": [
    {
     "ename": "OSError",
     "evalue": "[WinError 126] The specified module could not be found",
     "output_type": "error",
     "traceback": [
      "\u001b[1;31m---------------------------------------------------------------------------\u001b[0m",
      "\u001b[1;31mOSError\u001b[0m                                   Traceback (most recent call last)",
      "\u001b[1;32m<ipython-input-58-4dbaf59a9b8e>\u001b[0m in \u001b[0;36m<module>\u001b[1;34m\u001b[0m\n\u001b[0;32m      1\u001b[0m \u001b[1;32mimport\u001b[0m \u001b[0mmath\u001b[0m\u001b[1;33m\u001b[0m\u001b[1;33m\u001b[0m\u001b[0m\n\u001b[1;32m----> 2\u001b[1;33m \u001b[1;32mfrom\u001b[0m \u001b[0mshapely\u001b[0m\u001b[1;33m.\u001b[0m\u001b[0mgeometry\u001b[0m \u001b[1;32mimport\u001b[0m \u001b[0mPolygon\u001b[0m\u001b[1;33m,\u001b[0m \u001b[0mPoint\u001b[0m\u001b[1;33m\u001b[0m\u001b[1;33m\u001b[0m\u001b[0m\n\u001b[0m\u001b[0;32m      3\u001b[0m \u001b[1;32mimport\u001b[0m \u001b[0mpandas\u001b[0m \u001b[1;32mas\u001b[0m \u001b[0mpd\u001b[0m\u001b[1;33m\u001b[0m\u001b[1;33m\u001b[0m\u001b[0m\n\u001b[0;32m      4\u001b[0m \u001b[1;32mimport\u001b[0m \u001b[0mjson\u001b[0m\u001b[1;33m\u001b[0m\u001b[1;33m\u001b[0m\u001b[0m\n",
      "\u001b[1;32m~\\Anaconda3\\lib\\site-packages\\shapely\\geometry\\__init__.py\u001b[0m in \u001b[0;36m<module>\u001b[1;34m\u001b[0m\n\u001b[0;32m      2\u001b[0m \"\"\"\n\u001b[0;32m      3\u001b[0m \u001b[1;33m\u001b[0m\u001b[0m\n\u001b[1;32m----> 4\u001b[1;33m \u001b[1;32mfrom\u001b[0m \u001b[1;33m.\u001b[0m\u001b[0mbase\u001b[0m \u001b[1;32mimport\u001b[0m \u001b[0mCAP_STYLE\u001b[0m\u001b[1;33m,\u001b[0m \u001b[0mJOIN_STYLE\u001b[0m\u001b[1;33m\u001b[0m\u001b[1;33m\u001b[0m\u001b[0m\n\u001b[0m\u001b[0;32m      5\u001b[0m \u001b[1;32mfrom\u001b[0m \u001b[1;33m.\u001b[0m\u001b[0mgeo\u001b[0m \u001b[1;32mimport\u001b[0m \u001b[0mbox\u001b[0m\u001b[1;33m,\u001b[0m \u001b[0mshape\u001b[0m\u001b[1;33m,\u001b[0m \u001b[0masShape\u001b[0m\u001b[1;33m,\u001b[0m \u001b[0mmapping\u001b[0m\u001b[1;33m\u001b[0m\u001b[1;33m\u001b[0m\u001b[0m\n\u001b[0;32m      6\u001b[0m \u001b[1;32mfrom\u001b[0m \u001b[1;33m.\u001b[0m\u001b[0mpoint\u001b[0m \u001b[1;32mimport\u001b[0m \u001b[0mPoint\u001b[0m\u001b[1;33m,\u001b[0m \u001b[0masPoint\u001b[0m\u001b[1;33m\u001b[0m\u001b[1;33m\u001b[0m\u001b[0m\n",
      "\u001b[1;32m~\\Anaconda3\\lib\\site-packages\\shapely\\geometry\\base.py\u001b[0m in \u001b[0;36m<module>\u001b[1;34m\u001b[0m\n\u001b[0;32m     17\u001b[0m \u001b[1;33m\u001b[0m\u001b[0m\n\u001b[0;32m     18\u001b[0m \u001b[1;32mfrom\u001b[0m \u001b[0mshapely\u001b[0m\u001b[1;33m.\u001b[0m\u001b[0maffinity\u001b[0m \u001b[1;32mimport\u001b[0m \u001b[0maffine_transform\u001b[0m\u001b[1;33m\u001b[0m\u001b[1;33m\u001b[0m\u001b[0m\n\u001b[1;32m---> 19\u001b[1;33m \u001b[1;32mfrom\u001b[0m \u001b[0mshapely\u001b[0m\u001b[1;33m.\u001b[0m\u001b[0mcoords\u001b[0m \u001b[1;32mimport\u001b[0m \u001b[0mCoordinateSequence\u001b[0m\u001b[1;33m\u001b[0m\u001b[1;33m\u001b[0m\u001b[0m\n\u001b[0m\u001b[0;32m     20\u001b[0m \u001b[1;32mfrom\u001b[0m \u001b[0mshapely\u001b[0m\u001b[1;33m.\u001b[0m\u001b[0merrors\u001b[0m \u001b[1;32mimport\u001b[0m \u001b[0mWKBReadingError\u001b[0m\u001b[1;33m,\u001b[0m \u001b[0mWKTReadingError\u001b[0m\u001b[1;33m\u001b[0m\u001b[1;33m\u001b[0m\u001b[0m\n\u001b[0;32m     21\u001b[0m \u001b[1;32mfrom\u001b[0m \u001b[0mshapely\u001b[0m\u001b[1;33m.\u001b[0m\u001b[0mgeos\u001b[0m \u001b[1;32mimport\u001b[0m \u001b[0mWKBWriter\u001b[0m\u001b[1;33m,\u001b[0m \u001b[0mWKTWriter\u001b[0m\u001b[1;33m\u001b[0m\u001b[1;33m\u001b[0m\u001b[0m\n",
      "\u001b[1;32m~\\Anaconda3\\lib\\site-packages\\shapely\\coords.py\u001b[0m in \u001b[0;36m<module>\u001b[1;34m\u001b[0m\n\u001b[0;32m      6\u001b[0m \u001b[1;32mfrom\u001b[0m \u001b[0mctypes\u001b[0m \u001b[1;32mimport\u001b[0m \u001b[0mbyref\u001b[0m\u001b[1;33m,\u001b[0m \u001b[0mc_double\u001b[0m\u001b[1;33m,\u001b[0m \u001b[0mc_uint\u001b[0m\u001b[1;33m\u001b[0m\u001b[1;33m\u001b[0m\u001b[0m\n\u001b[0;32m      7\u001b[0m \u001b[1;33m\u001b[0m\u001b[0m\n\u001b[1;32m----> 8\u001b[1;33m \u001b[1;32mfrom\u001b[0m \u001b[0mshapely\u001b[0m\u001b[1;33m.\u001b[0m\u001b[0mgeos\u001b[0m \u001b[1;32mimport\u001b[0m \u001b[0mlgeos\u001b[0m\u001b[1;33m\u001b[0m\u001b[1;33m\u001b[0m\u001b[0m\n\u001b[0m\u001b[0;32m      9\u001b[0m \u001b[1;32mfrom\u001b[0m \u001b[0mshapely\u001b[0m\u001b[1;33m.\u001b[0m\u001b[0mtopology\u001b[0m \u001b[1;32mimport\u001b[0m \u001b[0mValidating\u001b[0m\u001b[1;33m\u001b[0m\u001b[1;33m\u001b[0m\u001b[0m\n\u001b[0;32m     10\u001b[0m \u001b[1;33m\u001b[0m\u001b[0m\n",
      "\u001b[1;32m~\\Anaconda3\\lib\\site-packages\\shapely\\geos.py\u001b[0m in \u001b[0;36m<module>\u001b[1;34m\u001b[0m\n\u001b[0;32m    152\u001b[0m     \u001b[1;32mif\u001b[0m \u001b[0mos\u001b[0m\u001b[1;33m.\u001b[0m\u001b[0mgetenv\u001b[0m\u001b[1;33m(\u001b[0m\u001b[1;34m'CONDA_PREFIX'\u001b[0m\u001b[1;33m,\u001b[0m \u001b[1;34m''\u001b[0m\u001b[1;33m)\u001b[0m\u001b[1;33m:\u001b[0m\u001b[1;33m\u001b[0m\u001b[1;33m\u001b[0m\u001b[0m\n\u001b[0;32m    153\u001b[0m         \u001b[1;31m# conda package.\u001b[0m\u001b[1;33m\u001b[0m\u001b[1;33m\u001b[0m\u001b[1;33m\u001b[0m\u001b[0m\n\u001b[1;32m--> 154\u001b[1;33m         \u001b[0m_lgeos\u001b[0m \u001b[1;33m=\u001b[0m \u001b[0mCDLL\u001b[0m\u001b[1;33m(\u001b[0m\u001b[0mos\u001b[0m\u001b[1;33m.\u001b[0m\u001b[0mpath\u001b[0m\u001b[1;33m.\u001b[0m\u001b[0mjoin\u001b[0m\u001b[1;33m(\u001b[0m\u001b[0msys\u001b[0m\u001b[1;33m.\u001b[0m\u001b[0mprefix\u001b[0m\u001b[1;33m,\u001b[0m \u001b[1;34m'Library'\u001b[0m\u001b[1;33m,\u001b[0m \u001b[1;34m'bin'\u001b[0m\u001b[1;33m,\u001b[0m \u001b[1;34m'geos_c.dll'\u001b[0m\u001b[1;33m)\u001b[0m\u001b[1;33m)\u001b[0m\u001b[1;33m\u001b[0m\u001b[1;33m\u001b[0m\u001b[0m\n\u001b[0m\u001b[0;32m    155\u001b[0m     \u001b[1;32melse\u001b[0m\u001b[1;33m:\u001b[0m\u001b[1;33m\u001b[0m\u001b[1;33m\u001b[0m\u001b[0m\n\u001b[0;32m    156\u001b[0m         \u001b[1;32mtry\u001b[0m\u001b[1;33m:\u001b[0m\u001b[1;33m\u001b[0m\u001b[1;33m\u001b[0m\u001b[0m\n",
      "\u001b[1;32m~\\Anaconda3\\lib\\ctypes\\__init__.py\u001b[0m in \u001b[0;36m__init__\u001b[1;34m(self, name, mode, handle, use_errno, use_last_error)\u001b[0m\n\u001b[0;32m    362\u001b[0m \u001b[1;33m\u001b[0m\u001b[0m\n\u001b[0;32m    363\u001b[0m         \u001b[1;32mif\u001b[0m \u001b[0mhandle\u001b[0m \u001b[1;32mis\u001b[0m \u001b[1;32mNone\u001b[0m\u001b[1;33m:\u001b[0m\u001b[1;33m\u001b[0m\u001b[1;33m\u001b[0m\u001b[0m\n\u001b[1;32m--> 364\u001b[1;33m             \u001b[0mself\u001b[0m\u001b[1;33m.\u001b[0m\u001b[0m_handle\u001b[0m \u001b[1;33m=\u001b[0m \u001b[0m_dlopen\u001b[0m\u001b[1;33m(\u001b[0m\u001b[0mself\u001b[0m\u001b[1;33m.\u001b[0m\u001b[0m_name\u001b[0m\u001b[1;33m,\u001b[0m \u001b[0mmode\u001b[0m\u001b[1;33m)\u001b[0m\u001b[1;33m\u001b[0m\u001b[1;33m\u001b[0m\u001b[0m\n\u001b[0m\u001b[0;32m    365\u001b[0m         \u001b[1;32melse\u001b[0m\u001b[1;33m:\u001b[0m\u001b[1;33m\u001b[0m\u001b[1;33m\u001b[0m\u001b[0m\n\u001b[0;32m    366\u001b[0m             \u001b[0mself\u001b[0m\u001b[1;33m.\u001b[0m\u001b[0m_handle\u001b[0m \u001b[1;33m=\u001b[0m \u001b[0mhandle\u001b[0m\u001b[1;33m\u001b[0m\u001b[1;33m\u001b[0m\u001b[0m\n",
      "\u001b[1;31mOSError\u001b[0m: [WinError 126] The specified module could not be found"
     ]
    }
   ],
   "source": [
    "import math\n",
    "from shapely.geometry import Polygon, Point\n",
    "import pandas as pd\n",
    "import json"
   ]
  },
  {
   "cell_type": "code",
   "execution_count": 59,
   "metadata": {},
   "outputs": [
    {
     "data": {
      "text/html": [
       "<div>\n",
       "<style scoped>\n",
       "    .dataframe tbody tr th:only-of-type {\n",
       "        vertical-align: middle;\n",
       "    }\n",
       "\n",
       "    .dataframe tbody tr th {\n",
       "        vertical-align: top;\n",
       "    }\n",
       "\n",
       "    .dataframe thead th {\n",
       "        text-align: right;\n",
       "    }\n",
       "</style>\n",
       "<table border=\"1\" class=\"dataframe\">\n",
       "  <thead>\n",
       "    <tr style=\"text-align: right;\">\n",
       "      <th></th>\n",
       "      <th>Incident Datetime</th>\n",
       "      <th>Incident Subcategory</th>\n",
       "      <th>Analysis Neighborhood</th>\n",
       "      <th>Intersection</th>\n",
       "      <th>Latitude</th>\n",
       "      <th>Longitude</th>\n",
       "    </tr>\n",
       "  </thead>\n",
       "  <tbody>\n",
       "    <tr>\n",
       "      <th>0</th>\n",
       "      <td>2020/08/15 08:56:00 AM</td>\n",
       "      <td>Recovered Vehicle</td>\n",
       "      <td>NaN</td>\n",
       "      <td>NaN</td>\n",
       "      <td>NaN</td>\n",
       "      <td>NaN</td>\n",
       "    </tr>\n",
       "    <tr>\n",
       "      <th>1</th>\n",
       "      <td>2020/08/15 09:40:00 AM</td>\n",
       "      <td>Larceny - From Vehicle</td>\n",
       "      <td>NaN</td>\n",
       "      <td>NaN</td>\n",
       "      <td>NaN</td>\n",
       "      <td>NaN</td>\n",
       "    </tr>\n",
       "    <tr>\n",
       "      <th>8</th>\n",
       "      <td>2020/08/14 02:00:00 PM</td>\n",
       "      <td>Larceny - From Vehicle</td>\n",
       "      <td>Japantown</td>\n",
       "      <td>HEMLOCK ST \\ LAGUNA ST</td>\n",
       "      <td>37.786247</td>\n",
       "      <td>-122.428241</td>\n",
       "    </tr>\n",
       "    <tr>\n",
       "      <th>20</th>\n",
       "      <td>2020/08/16 07:56:00 AM</td>\n",
       "      <td>Recovered Vehicle</td>\n",
       "      <td>Bayview Hunters Point</td>\n",
       "      <td>YOSEMITE AVE \\ INGALLS ST</td>\n",
       "      <td>37.724729</td>\n",
       "      <td>-122.387930</td>\n",
       "    </tr>\n",
       "    <tr>\n",
       "      <th>32</th>\n",
       "      <td>2020/08/16 01:45:00 PM</td>\n",
       "      <td>Recovered Vehicle</td>\n",
       "      <td>Bayview Hunters Point</td>\n",
       "      <td>FAIRFAX AVE \\ NEWHALL ST</td>\n",
       "      <td>37.741297</td>\n",
       "      <td>-122.387143</td>\n",
       "    </tr>\n",
       "  </tbody>\n",
       "</table>\n",
       "</div>"
      ],
      "text/plain": [
       "         Incident Datetime    Incident Subcategory  Analysis Neighborhood  \\\n",
       "0   2020/08/15 08:56:00 AM       Recovered Vehicle                    NaN   \n",
       "1   2020/08/15 09:40:00 AM  Larceny - From Vehicle                    NaN   \n",
       "8   2020/08/14 02:00:00 PM  Larceny - From Vehicle              Japantown   \n",
       "20  2020/08/16 07:56:00 AM       Recovered Vehicle  Bayview Hunters Point   \n",
       "32  2020/08/16 01:45:00 PM       Recovered Vehicle  Bayview Hunters Point   \n",
       "\n",
       "                 Intersection   Latitude   Longitude  \n",
       "0                         NaN        NaN         NaN  \n",
       "1                         NaN        NaN         NaN  \n",
       "8      HEMLOCK ST \\ LAGUNA ST  37.786247 -122.428241  \n",
       "20  YOSEMITE AVE \\ INGALLS ST  37.724729 -122.387930  \n",
       "32   FAIRFAX AVE \\ NEWHALL ST  37.741297 -122.387143  "
      ]
     },
     "execution_count": 59,
     "metadata": {},
     "output_type": "execute_result"
    }
   ],
   "source": [
    "filtered_data_df.head()"
   ]
  },
  {
   "cell_type": "code",
   "execution_count": null,
   "metadata": {},
   "outputs": [],
   "source": [
    "# Tourist spots\n",
    "\n",
    "tourist = ['Golden Gate Park','Russian Hill']"
   ]
  }
 ],
 "metadata": {
  "kernelspec": {
   "display_name": "Python 3",
   "language": "python",
   "name": "python3"
  },
  "language_info": {
   "codemirror_mode": {
    "name": "ipython",
    "version": 3
   },
   "file_extension": ".py",
   "mimetype": "text/x-python",
   "name": "python",
   "nbconvert_exporter": "python",
   "pygments_lexer": "ipython3",
   "version": "3.7.7"
  }
 },
 "nbformat": 4,
 "nbformat_minor": 4
}
